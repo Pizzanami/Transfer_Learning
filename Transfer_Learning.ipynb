{
 "cells": [
  {
   "cell_type": "markdown",
   "source": [
    "# Deep Learning: Transfer Learning y Fine Tuning\n",
    "#### Itzanami Berlanga Contreras | 07 de mayo del 2024\n",
    "\n",
    "En esta práctica vamos a estudiar uno de los conceptos vistos en clase sobre el transfer learning y fine tuning, estrategias que tiene como propósito como su nombre así lo indica, de tomar el aprendizaje de un modelo, y usarlo en otro, esto tiene como propósito ayudar a mejorar el desempeño de un modelo en un problema del que se cuentan con pocos o malos datos, entrenando de forma previa al modelo con algún conjunto de naturaleza similar del que se tengan más o mejores datos, ya sea para entonces solo entrenar la capa de salida en el caso del transfer learning  o de tomarlo como referencia en el entrenamiento, partiendo de ahí aunque llevando a cabo su propio entrenamiento completo de la red, como lo es el caso del fine tuning."
   ],
   "metadata": {
    "collapsed": false
   },
   "id": "2bd4e657b1398907"
  },
  {
   "cell_type": "markdown",
   "source": [
    "## Paso 1: Generación del conjunto a trabajar"
   ],
   "metadata": {
    "collapsed": false
   },
   "id": "b67af8eefa8e94c8"
  },
  {
   "cell_type": "code",
   "execution_count": null,
   "outputs": [],
   "source": [
    "import keras\n",
    "import numpy as np\n",
    "from keras.models import Sequential\n",
    "from keras.models import clone_model\n",
    "from tabulate import tabulate\n",
    "from keras.layers import Dense\n",
    "from keras.layers import Input\n",
    "from sklearn.preprocessing import MinMaxScaler\n",
    "from sklearn.model_selection import train_test_split\n",
    "import matplotlib.pyplot as plt\n",
    "from sklearn.datasets import make_moons"
   ],
   "metadata": {
    "collapsed": false,
    "is_executing": true,
    "ExecuteTime": {
     "start_time": "2024-05-12T20:16:36.584991800Z"
    }
   },
   "id": "8812d4f4b68cbad1"
  },
  {
   "cell_type": "code",
   "execution_count": null,
   "outputs": [],
   "source": [
    "# Función para generar los conjuntos indicada\n",
    "def make_moons2(ruido, muestras):\n",
    "    return make_moons(n_samples=muestras, noise=ruido, random_state=17)\n",
    "\n",
    "# Generación de conjuntos\n",
    "X_sinRuido, y_sinRuido = make_moons2(.2, 10000)\n",
    "X_ruido, y_ruido = make_moons2(.45, 1000)\n",
    "\n",
    "# Conjunto sin ruido\n",
    "plt.plot(X_sinRuido[:, 0][y_sinRuido==1], X_sinRuido[:, 1][y_sinRuido==1], \"bs\")\n",
    "plt.plot(X_sinRuido[:, 0][y_sinRuido==0], X_sinRuido[:, 1][y_sinRuido==0], \"g^\")\n",
    "\n",
    "plt.xlabel(r\"$x_1$\", fontsize=15)\n",
    "plt.ylabel(r\"$x_2$\", fontsize=15)\n",
    "plt.title(\"Conjunto A con 10000 muestras y 0.2 de ruido\")\n",
    "\n",
    "plt.show()\n",
    "\n",
    "# Conjunto con ruido\n",
    "plt.plot(X_ruido[:, 0][y_ruido==1], X_ruido[:, 1][y_ruido==1], \"bs\")\n",
    "plt.plot(X_ruido[:, 0][y_ruido==0], X_ruido[:, 1][y_ruido==0], \"g^\")\n",
    "\n",
    "plt.xlabel(r\"$x_1$\", fontsize=15)\n",
    "plt.ylabel(r\"$x_2$\", fontsize=15)\n",
    "plt.title(\"Conjunto B con 1000 muestras y 0.45 de ruido\")\n",
    "\n",
    "plt.show()"
   ],
   "metadata": {
    "collapsed": false,
    "is_executing": true
   },
   "id": "72a7a43b92325dc6"
  },
  {
   "cell_type": "markdown",
   "source": [
    "### Preparar los datos\n",
    "\n",
    "Para esto se deben escalar los datos haciendo uso del MinMaxScaler, además de separar los conjuntos en entrenamiento y prueba en una proporción 80 y 20."
   ],
   "metadata": {
    "collapsed": false
   },
   "id": "7d54d7d6f4341c45"
  },
  {
   "cell_type": "code",
   "execution_count": null,
   "id": "initial_id",
   "metadata": {
    "collapsed": true,
    "is_executing": true
   },
   "outputs": [],
   "source": [
    "esc = MinMaxScaler()\n",
    "esc.fit(X_sinRuido)\n",
    "esc.transform(X_sinRuido)\n",
    "\n",
    "esc2 = MinMaxScaler()\n",
    "esc2.fit(X_ruido)\n",
    "esc2.transform(X_ruido)\n",
    "\n",
    "X_SR_tr, X_SR_ts, y_SR_tr, y_SR_ts = train_test_split(X_sinRuido, y_sinRuido, test_size=0.2, stratify=y_sinRuido)\n",
    "\n",
    "X_CR_tr, X_CR_ts, y_CR_tr, y_CR_ts = train_test_split(X_ruido, y_ruido, test_size=0.2, stratify=y_ruido)"
   ]
  },
  {
   "cell_type": "markdown",
   "source": [
    "También agregamos el one hot encoder para poder hacer la clasificación, obteniendo una copia modficada de los dos conjuntos de etiquetas utilizada para la clasificación, tanto en el entrenamiento como en las pruebas"
   ],
   "metadata": {
    "collapsed": false
   },
   "id": "fd292fcfcf1841c2"
  },
  {
   "cell_type": "code",
   "execution_count": null,
   "outputs": [],
   "source": [
    "def OHE(Y):\n",
    "    etiq = np.unique(Y)\n",
    "    oneHotEncoder = np.zeros((len(Y), len(etiq)))\n",
    "    for i in range(len(Y)):\n",
    "        oneHotEncoder[i] = np.zeros(len(etiq))\n",
    "        for j in range(len(etiq)):\n",
    "            if Y[i] == etiq[j]:\n",
    "                oneHotEncoder[i][j] = 1\n",
    "    return oneHotEncoder\n",
    "\n",
    "def antiOHE(Y):\n",
    "    antiEncoder = np.zeros(len(Y))\n",
    "    for i in range(len(Y)):\n",
    "        for j in range(10):\n",
    "            if Y[i][j] == 1:\n",
    "                antiEncoder[i] = j\n",
    "    return antiEncoder\n",
    "\n",
    "y_SR_tr_OHE = OHE(y_SR_tr)\n",
    "y_SR_ts_OHE = OHE(y_SR_ts)\n",
    "y_CR_tr_OHE = OHE(y_CR_tr)\n",
    "y_CR_ts_OHE = OHE(y_CR_ts)"
   ],
   "metadata": {
    "collapsed": false,
    "is_executing": true
   },
   "id": "d5f0508b3a4f5c66"
  },
  {
   "cell_type": "markdown",
   "source": [
    "# Paso 2: Proponer M1 para datos sin ruido\n",
    "\n",
    "En este caso se decidió utilizar una arquitectura de DNN con dos capas ocultas, con función de activación 'relu' que por lo que hemos estudiado tiene un buen desempeño, en la última capa colocamos la función de activación 'softmax' que es la que nos permite asignar las etiquetas a nuestros datos en esta capa de salida.\n",
    "\n",
    "Así mismo hicimos uso del optimizador Adam, con learning_rate de 0.001, esto nos brinda un buen desempeño así como un buen margen para las posteriores modificaciones en el M3 y M4. Revisamos las gráficas de accuracy y loss para analizar el rendimiento y evitar el sobreajuste, de donde se decidió ejecutar 40 épocas.\n",
    "\n",
    "Esta será la arquitectura a utilizar en los siguientes modelos, y para esta ejecución nos dió un rendimiento de 96%."
   ],
   "metadata": {
    "collapsed": false
   },
   "id": "5f8f29169f213948"
  },
  {
   "cell_type": "code",
   "execution_count": null,
   "outputs": [],
   "source": [
    "moons_dim = X_CR_tr[1].shape\n",
    "moons_dim_SR = X_SR_tr[1].shape\n",
    "# Generar un inner model nos permitirá usar este como un recurso para aprovechar el procesamiento que se hizo previamente en su entrenamiento, esto para el transfer learning, y aprovechar los pesos que generó para empezar un nuevo entrenamiento, para el caso del fine tuning\n",
    "m1_inner_model = Sequential(\n",
    "    [\n",
    "    Input(shape=moons_dim),\n",
    "    Dense(5, activation='relu'),\n",
    "    Dense(5, activation='relu')\n",
    "    ]\n",
    "    )\n",
    "m1 = Sequential(\n",
    "    [\n",
    "        m1_inner_model,\n",
    "        Dense(2, activation='softmax')\n",
    "    ]\n",
    ")\n",
    "opt_adam = keras.optimizers.Adam(learning_rate=0.001)\n",
    "m1.compile(loss='binary_crossentropy', optimizer=opt_adam, metrics=['accuracy'])\n",
    "history_m1 = m1.fit(X_SR_tr, y_SR_tr_OHE, epochs=40, validation_split = .1, verbose = 0)\n",
    "\n",
    "plt.plot(history_m1.history['accuracy'])\n",
    "plt.plot(history_m1.history['val_accuracy'])\n",
    "plt.title('M1 Exactitud')\n",
    "plt.ylabel('Exactitud')\n",
    "plt.xlabel('Época')\n",
    "plt.ylim(-0.1, 1.1)\n",
    "plt.legend(['Entrenamiento', 'Validación'], loc='upper left')\n",
    "plt.show()\n",
    "\n",
    "plt.plot(history_m1.history['loss'])\n",
    "plt.plot(history_m1.history['val_loss'])\n",
    "plt.title('M1 Perdida')\n",
    "plt.ylabel('Perdida')\n",
    "plt.xlabel('Época')\n",
    "plt.ylim(-0.1, 5)\n",
    "plt.legend(['Entrenamiento', 'Validación'], loc='upper left')\n",
    "plt.show()\n",
    "\n",
    "m1_res = m1.evaluate(X_SR_ts, y_SR_ts_OHE)\n",
    "print(\"test loss, test acc:\", m1_res)"
   ],
   "metadata": {
    "collapsed": false,
    "is_executing": true
   },
   "id": "b36638af71381148"
  },
  {
   "cell_type": "markdown",
   "source": [
    "# Paso 3: M2, aplicar el mismo modelo al conjunto con ruido\n",
    "\n",
    "En este caso también se tomó en cuenta el comportamiento del modelo en esta segunda estancia para elegir los parámetros anteriores. En general presentó un buen desempeño y como miraremos más adelante en esta práctica, se tiene un promedio de rendimiento del 86%, que es un buen desempeño y corresponde con lo esperado en el cambio del conjunto."
   ],
   "metadata": {
    "collapsed": false
   },
   "id": "f63de8e44f64c5af"
  },
  {
   "cell_type": "code",
   "execution_count": null,
   "outputs": [],
   "source": [
    "m2 = Sequential()\n",
    "m2.add(Input(shape=moons_dim))\n",
    "m2.add(Dense(5, activation='relu'))\n",
    "m2.add(Dense(5, activation='relu'))\n",
    "m2.add(Dense(2, activation='softmax'))\n",
    "opt_adam = keras.optimizers.Adam(learning_rate=0.001)\n",
    "m2.compile(loss='binary_crossentropy', optimizer=opt_adam, metrics=['accuracy'])\n",
    "history_m2 = m2.fit(X_CR_tr, y_CR_tr_OHE, epochs=40, validation_split = .1, verbose = 0)\n",
    "\n",
    "plt.plot(history_m2.history['accuracy'])\n",
    "plt.plot(history_m2.history['val_accuracy'])\n",
    "plt.title('M2 Exactitud')\n",
    "plt.ylabel('Exactitud')\n",
    "plt.xlabel('Época')\n",
    "plt.ylim(-0.1, 1.1)\n",
    "plt.legend(['Entrenamiento', 'Validación'], loc='upper left')\n",
    "plt.show()\n",
    "\n",
    "plt.plot(history_m2.history['loss'])\n",
    "plt.plot(history_m2.history['val_loss'])\n",
    "plt.title('M2 Perdida')\n",
    "plt.ylabel('Perdida')\n",
    "plt.xlabel('Época')\n",
    "plt.ylim(-0.1, 5)\n",
    "plt.legend(['Entrenamiento', 'Validación'], loc='upper left')\n",
    "plt.show()\n",
    "m2_res = m2.evaluate(X_CR_ts, y_CR_ts_OHE)\n",
    "print(\"test loss, test acc:\", m2_res)"
   ],
   "metadata": {
    "collapsed": false,
    "is_executing": true
   },
   "id": "4cb3249332b0401d"
  },
  {
   "cell_type": "markdown",
   "source": [
    "## Paso 4: M3, aplicar el transfer learning a M1 y aplicarlo al conjunto con ruido\n",
    "\n",
    "En este caso, bloqueamos las capas de entrada y ocultas del modelo y entrenamos únicamente la capa de salida, dado que ya existe un aprendizaje previo y deseamos que se ajuste al nuevo conjunto aumentamos la learning rate hasta 0.05, lo cual nos dejó con un desempeño de 0.85 en promedio, lo cuál no aumento el desempeño aunque se mantuvo bien en términos generales, y nos muestr"
   ],
   "metadata": {
    "collapsed": false
   },
   "id": "4e13256e9da593ed"
  },
  {
   "cell_type": "code",
   "execution_count": 126,
   "outputs": [
    {
     "data": {
      "text/plain": "<Figure size 640x480 with 1 Axes>",
      "image/png": "[encoded data removed]"
     },
     "metadata": {},
     "output_type": "display_data"
    },
    {
     "data": {
      "text/plain": "<Figure size 640x480 with 1 Axes>",
      "image/png": "[encoded data removed]"
     },
     "metadata": {},
     "output_type": "display_data"
    },
    {
     "name": "stdout",
     "output_type": "stream",
     "text": [
      "\u001B[1m7/7\u001B[0m \u001B[32m━━━━━━━━━━━━━━━━━━━━\u001B[0m\u001B[37m\u001B[0m \u001B[1m0s\u001B[0m 7ms/step - accuracy: 0.8543 - loss: 0.3565 \n",
      "test loss, test acc: [0.3454069495201111, 0.8700000047683716]\n"
     ]
    }
   ],
   "source": [
    "# Bloqueamos el aprendizaje de las capas del modelo 1\n",
    "m1_inner_model.trainable = False\n",
    "m3 = Sequential(\n",
    "    [\n",
    "        m1_inner_model,\n",
    "        Dense(2, activation='softmax')\n",
    "    ]\n",
    ")\n",
    "opt_adam = keras.optimizers.Adam(learning_rate=0.05)\n",
    "m3.compile(loss='binary_crossentropy', optimizer=opt_adam, metrics=['accuracy'])\n",
    "history_m3 = m3.fit(X_CR_tr, y_CR_tr_OHE, epochs=40, validation_split = .1, verbose = 0)\n",
    "\n",
    "plt.plot(history_m3.history['accuracy'])\n",
    "plt.plot(history_m3.history['val_accuracy'])\n",
    "plt.title('M3 Exactitud')\n",
    "plt.ylabel('Exactitud')\n",
    "plt.xlabel('Época')\n",
    "plt.ylim(-0.1, 1.1)\n",
    "plt.legend(['Entrenamiento', 'Validación'], loc='upper left')\n",
    "plt.show()\n",
    "\n",
    "plt.plot(history_m3.history['loss'])\n",
    "plt.plot(history_m3.history['val_loss'])\n",
    "plt.title('M3 Perdida')\n",
    "plt.ylabel('Perdida')\n",
    "plt.xlabel('Época')\n",
    "plt.ylim(-0.1, 5)\n",
    "plt.legend(['Entrenamiento', 'Validación'], loc='upper left')\n",
    "plt.show()\n",
    "m3_res = m3.evaluate(X_CR_ts, y_CR_ts_OHE)\n",
    "print(\"test loss, test acc:\", m3_res)\n"
   ],
   "metadata": {
    "collapsed": false,
    "ExecuteTime": {
     "end_time": "2024-05-07T19:44:30.887222500Z",
     "start_time": "2024-05-07T19:44:18.330546500Z"
    }
   },
   "id": "a22aaef4c206db7b"
  },
  {
   "cell_type": "markdown",
   "source": [
    "## Paso 4: M3, aplicar el transfer learning a M1 y aplicarlo al conjunto con ruido\n",
    "\n",
    "En este caso, bloqueamos las capas de entrada y ocultas del modelo y entrenamos únicamente la capa de salida, dado que ya existe un aprendizaje previo y deseamos que se ajuste al nuevo conjunto aumentamos la learning rate hasta 0.05, lo cual nos dejó con un desempeño de 0.85 en promedio, lo cuál no aumento el desempeño aunque se mantuvo bien en términos generales"
   ],
   "metadata": {
    "collapsed": false
   },
   "id": "cf1905d875c61feb"
  },
  {
   "cell_type": "code",
   "execution_count": 104,
   "outputs": [
    {
     "data": {
      "text/plain": "<Figure size 640x480 with 1 Axes>",
      "image/png": "[encoded data removed]"
     },
     "metadata": {},
     "output_type": "display_data"
    },
    {
     "data": {
      "text/plain": "<Figure size 640x480 with 1 Axes>",
      "image/png": "[encoded data removed]"
     },
     "metadata": {},
     "output_type": "display_data"
    },
    {
     "name": "stdout",
     "output_type": "stream",
     "text": [
      "\u001B[1m7/7\u001B[0m \u001B[32m━━━━━━━━━━━━━━━━━━━━\u001B[0m\u001B[37m\u001B[0m \u001B[1m0s\u001B[0m 5ms/step - accuracy: 0.7795 - loss: 0.6542 \n",
      "test loss, test acc: [0.6441181898117065, 0.7850000262260437]\n"
     ]
    }
   ],
   "source": [
    "#m4_inner_model = clone_model(m1_inner_model) \n",
    "m4_inner_model = Sequential(\n",
    "    [\n",
    "    Input(shape=moons_dim),\n",
    "    Dense(5, activation='relu'),\n",
    "    Dense(5, activation='relu')\n",
    "    ]\n",
    "    )\n",
    "m4_inner_model.set_weights(m1_inner_model.get_weights())\n",
    "m4 = Sequential(\n",
    "    [\n",
    "        m4_inner_model,\n",
    "        Dense(2, activation='softmax')\n",
    "    ]\n",
    ")\n",
    "\n",
    "opt_adam = keras.optimizers.Adam(learning_rate=0.00001)\n",
    "m4.compile(loss='binary_crossentropy', optimizer=opt_adam, metrics=['accuracy'])\n",
    "history_m4 = m4.fit(X_CR_tr, y_CR_tr_OHE, epochs=40, validation_split = .1, verbose = 0)\n",
    "\n",
    "plt.plot(history_m4.history['accuracy'])\n",
    "plt.plot(history_m4.history['val_accuracy'])\n",
    "plt.title('M4 Exactitud')\n",
    "plt.ylabel('Exactitud')\n",
    "plt.xlabel('Época')\n",
    "plt.ylim(-0.1, 1.1)\n",
    "plt.legend(['Entrenamiento', 'Validación'], loc='upper left')\n",
    "plt.show()\n",
    "\n",
    "plt.plot(history_m4.history['loss'])\n",
    "plt.plot(history_m4.history['val_loss'])\n",
    "plt.title('M4 Perdida')\n",
    "plt.ylabel('Perdida')\n",
    "plt.xlabel('Época')\n",
    "plt.ylim(-0.1, 5)\n",
    "plt.legend(['Entrenamiento', 'Validación'], loc='upper left')\n",
    "plt.show()\n",
    "m4_res = m4.evaluate(X_CR_ts, y_CR_ts_OHE)\n",
    "print(\"test loss, test acc:\", m4_res)"
   ],
   "metadata": {
    "collapsed": false,
    "ExecuteTime": {
     "end_time": "2024-05-07T14:09:22.394466100Z",
     "start_time": "2024-05-07T14:09:13.108028Z"
    }
   },
   "id": "625a9bc2348ff372"
  },
  {
   "cell_type": "markdown",
   "source": [
    "## Paso 6"
   ],
   "metadata": {
    "collapsed": false
   },
   "id": "f4b52b9386f051a6"
  },
  {
   "cell_type": "code",
   "execution_count": 135,
   "outputs": [
    {
     "name": "stdout",
     "output_type": "stream",
     "text": [
      "\u001B[1m7/7\u001B[0m \u001B[32m━━━━━━━━━━━━━━━━━━━━\u001B[0m\u001B[37m\u001B[0m \u001B[1m0s\u001B[0m 3ms/step - accuracy: 0.8782 - loss: 0.3584 \n",
      "\u001B[1m7/7\u001B[0m \u001B[32m━━━━━━━━━━━━━━━━━━━━\u001B[0m\u001B[37m\u001B[0m \u001B[1m0s\u001B[0m 5ms/step - accuracy: 0.8646 - loss: 0.3689 \n",
      "\u001B[1m7/7\u001B[0m \u001B[32m━━━━━━━━━━━━━━━━━━━━\u001B[0m\u001B[37m\u001B[0m \u001B[1m0s\u001B[0m 3ms/step - accuracy: 0.8233 - loss: 0.4840 \n",
      "\u001B[1m7/7\u001B[0m \u001B[32m━━━━━━━━━━━━━━━━━━━━\u001B[0m\u001B[37m\u001B[0m \u001B[1m0s\u001B[0m 2ms/step - accuracy: 0.8692 - loss: 0.3644 \n",
      "\u001B[1m7/7\u001B[0m \u001B[32m━━━━━━━━━━━━━━━━━━━━\u001B[0m\u001B[37m\u001B[0m \u001B[1m0s\u001B[0m 2ms/step - accuracy: 0.8713 - loss: 0.3542 \n",
      "\u001B[1m7/7\u001B[0m \u001B[32m━━━━━━━━━━━━━━━━━━━━\u001B[0m\u001B[37m\u001B[0m \u001B[1m0s\u001B[0m 3ms/step - accuracy: 0.8655 - loss: 0.4107 \n",
      "\u001B[1m7/7\u001B[0m \u001B[32m━━━━━━━━━━━━━━━━━━━━\u001B[0m\u001B[37m\u001B[0m \u001B[1m0s\u001B[0m 2ms/step - accuracy: 0.8592 - loss: 0.3631 \n",
      "\u001B[1m7/7\u001B[0m \u001B[32m━━━━━━━━━━━━━━━━━━━━\u001B[0m\u001B[37m\u001B[0m \u001B[1m0s\u001B[0m 3ms/step - accuracy: 0.8531 - loss: 0.3839 \n",
      "\u001B[1m7/7\u001B[0m \u001B[32m━━━━━━━━━━━━━━━━━━━━\u001B[0m\u001B[37m\u001B[0m \u001B[1m0s\u001B[0m 4ms/step - accuracy: 0.8563 - loss: 0.4504 \n",
      "\u001B[1m7/7\u001B[0m \u001B[32m━━━━━━━━━━━━━━━━━━━━\u001B[0m\u001B[37m\u001B[0m \u001B[1m0s\u001B[0m 3ms/step - accuracy: 0.8549 - loss: 0.4341 \n",
      "\u001B[1m7/7\u001B[0m \u001B[32m━━━━━━━━━━━━━━━━━━━━\u001B[0m\u001B[37m\u001B[0m \u001B[1m0s\u001B[0m 3ms/step - accuracy: 0.8718 - loss: 0.3552 \n",
      "\u001B[1m7/7\u001B[0m \u001B[32m━━━━━━━━━━━━━━━━━━━━\u001B[0m\u001B[37m\u001B[0m \u001B[1m0s\u001B[0m 2ms/step - accuracy: 0.8611 - loss: 0.3546 \n",
      "\u001B[1m7/7\u001B[0m \u001B[32m━━━━━━━━━━━━━━━━━━━━\u001B[0m\u001B[37m\u001B[0m \u001B[1m0s\u001B[0m 3ms/step - accuracy: 0.8782 - loss: 0.3611 \n",
      "\u001B[1m7/7\u001B[0m \u001B[32m━━━━━━━━━━━━━━━━━━━━\u001B[0m\u001B[37m\u001B[0m \u001B[1m0s\u001B[0m 3ms/step - accuracy: 0.8245 - loss: 0.3778 \n",
      "\u001B[1m7/7\u001B[0m \u001B[32m━━━━━━━━━━━━━━━━━━━━\u001B[0m\u001B[37m\u001B[0m \u001B[1m0s\u001B[0m 2ms/step - accuracy: 0.8543 - loss: 0.3921 \n",
      "\u001B[1m7/7\u001B[0m \u001B[32m━━━━━━━━━━━━━━━━━━━━\u001B[0m\u001B[37m\u001B[0m \u001B[1m0s\u001B[0m 3ms/step - accuracy: 0.8745 - loss: 0.3617 \n",
      "\u001B[1m7/7\u001B[0m \u001B[32m━━━━━━━━━━━━━━━━━━━━\u001B[0m\u001B[37m\u001B[0m \u001B[1m0s\u001B[0m 2ms/step - accuracy: 0.8366 - loss: 0.3677 \n",
      "\u001B[1m7/7\u001B[0m \u001B[32m━━━━━━━━━━━━━━━━━━━━\u001B[0m\u001B[37m\u001B[0m \u001B[1m0s\u001B[0m 2ms/step - accuracy: 0.8601 - loss: 0.3501 \n",
      "\u001B[1m7/7\u001B[0m \u001B[32m━━━━━━━━━━━━━━━━━━━━\u001B[0m\u001B[37m\u001B[0m \u001B[1m0s\u001B[0m 3ms/step - accuracy: 0.8573 - loss: 0.3647 \n",
      "\u001B[1m7/7\u001B[0m \u001B[32m━━━━━━━━━━━━━━━━━━━━\u001B[0m\u001B[37m\u001B[0m \u001B[1m0s\u001B[0m 3ms/step - accuracy: 0.8626 - loss: 0.3547 \n",
      "\u001B[1m7/7\u001B[0m \u001B[32m━━━━━━━━━━━━━━━━━━━━\u001B[0m\u001B[37m\u001B[0m \u001B[1m0s\u001B[0m 3ms/step - accuracy: 0.8680 - loss: 0.3549 \n",
      "\u001B[1m7/7\u001B[0m \u001B[32m━━━━━━━━━━━━━━━━━━━━\u001B[0m\u001B[37m\u001B[0m \u001B[1m0s\u001B[0m 3ms/step - accuracy: 0.8635 - loss: 0.3646 \n",
      "\u001B[1m7/7\u001B[0m \u001B[32m━━━━━━━━━━━━━━━━━━━━\u001B[0m\u001B[37m\u001B[0m \u001B[1m0s\u001B[0m 2ms/step - accuracy: 0.8516 - loss: 0.3703 \n",
      "\u001B[1m7/7\u001B[0m \u001B[32m━━━━━━━━━━━━━━━━━━━━\u001B[0m\u001B[37m\u001B[0m \u001B[1m0s\u001B[0m 2ms/step - accuracy: 0.8050 - loss: 0.4572 \n",
      "\u001B[1m7/7\u001B[0m \u001B[32m━━━━━━━━━━━━━━━━━━━━\u001B[0m\u001B[37m\u001B[0m \u001B[1m0s\u001B[0m 3ms/step - accuracy: 0.8782 - loss: 0.3599 \n",
      "\u001B[1m7/7\u001B[0m \u001B[32m━━━━━━━━━━━━━━━━━━━━\u001B[0m\u001B[37m\u001B[0m \u001B[1m0s\u001B[0m 2ms/step - accuracy: 0.8560 - loss: 0.3511 \n",
      "\u001B[1m7/7\u001B[0m \u001B[32m━━━━━━━━━━━━━━━━━━━━\u001B[0m\u001B[37m\u001B[0m \u001B[1m0s\u001B[0m 3ms/step - accuracy: 0.8757 - loss: 0.4248 \n",
      "\u001B[1m7/7\u001B[0m \u001B[32m━━━━━━━━━━━━━━━━━━━━\u001B[0m\u001B[37m\u001B[0m \u001B[1m0s\u001B[0m 3ms/step - accuracy: 0.8782 - loss: 0.4237 \n",
      "\u001B[1m7/7\u001B[0m \u001B[32m━━━━━━━━━━━━━━━━━━━━\u001B[0m\u001B[37m\u001B[0m \u001B[1m0s\u001B[0m 2ms/step - accuracy: 0.8579 - loss: 0.3605 \n",
      "\u001B[1m7/7\u001B[0m \u001B[32m━━━━━━━━━━━━━━━━━━━━\u001B[0m\u001B[37m\u001B[0m \u001B[1m0s\u001B[0m 3ms/step - accuracy: 0.8516 - loss: 0.3591 \n",
      "\u001B[1m7/7\u001B[0m \u001B[32m━━━━━━━━━━━━━━━━━━━━\u001B[0m\u001B[37m\u001B[0m \u001B[1m0s\u001B[0m 3ms/step - accuracy: 0.8756 - loss: 0.3761 \n",
      "\u001B[1m7/7\u001B[0m \u001B[32m━━━━━━━━━━━━━━━━━━━━\u001B[0m\u001B[37m\u001B[0m \u001B[1m0s\u001B[0m 4ms/step - accuracy: 0.8300 - loss: 0.3650 \n",
      "\u001B[1m7/7\u001B[0m \u001B[32m━━━━━━━━━━━━━━━━━━━━\u001B[0m\u001B[37m\u001B[0m \u001B[1m0s\u001B[0m 2ms/step - accuracy: 0.8828 - loss: 0.3491 \n",
      "\u001B[1m7/7\u001B[0m \u001B[32m━━━━━━━━━━━━━━━━━━━━\u001B[0m\u001B[37m\u001B[0m \u001B[1m0s\u001B[0m 3ms/step - accuracy: 0.8782 - loss: 0.3588 \n",
      "\u001B[1m7/7\u001B[0m \u001B[32m━━━━━━━━━━━━━━━━━━━━\u001B[0m\u001B[37m\u001B[0m \u001B[1m0s\u001B[0m 3ms/step - accuracy: 0.8351 - loss: 0.3844 \n",
      "\u001B[1m7/7\u001B[0m \u001B[32m━━━━━━━━━━━━━━━━━━━━\u001B[0m\u001B[37m\u001B[0m \u001B[1m0s\u001B[0m 3ms/step - accuracy: 0.8782 - loss: 0.3606 \n",
      "\u001B[1m7/7\u001B[0m \u001B[32m━━━━━━━━━━━━━━━━━━━━\u001B[0m\u001B[37m\u001B[0m \u001B[1m0s\u001B[0m 3ms/step - accuracy: 0.8630 - loss: 0.3625 \n",
      "\u001B[1m7/7\u001B[0m \u001B[32m━━━━━━━━━━━━━━━━━━━━\u001B[0m\u001B[37m\u001B[0m \u001B[1m0s\u001B[0m 2ms/step - accuracy: 0.8626 - loss: 0.3625 \n",
      "\u001B[1m7/7\u001B[0m \u001B[32m━━━━━━━━━━━━━━━━━━━━\u001B[0m\u001B[37m\u001B[0m \u001B[1m0s\u001B[0m 2ms/step - accuracy: 0.8630 - loss: 0.4468 \n",
      "\u001B[1m7/7\u001B[0m \u001B[32m━━━━━━━━━━━━━━━━━━━━\u001B[0m\u001B[37m\u001B[0m \u001B[1m0s\u001B[0m 3ms/step - accuracy: 0.8745 - loss: 0.3652 \n",
      "\u001B[1m7/7\u001B[0m \u001B[32m━━━━━━━━━━━━━━━━━━━━\u001B[0m\u001B[37m\u001B[0m \u001B[1m0s\u001B[0m 2ms/step - accuracy: 0.8259 - loss: 0.3803 \n",
      "\u001B[1m7/7\u001B[0m \u001B[32m━━━━━━━━━━━━━━━━━━━━\u001B[0m\u001B[37m\u001B[0m \u001B[1m0s\u001B[0m 2ms/step - accuracy: 0.8452 - loss: 0.5076 \n",
      "\u001B[1m7/7\u001B[0m \u001B[32m━━━━━━━━━━━━━━━━━━━━\u001B[0m\u001B[37m\u001B[0m \u001B[1m0s\u001B[0m 3ms/step - accuracy: 0.8555 - loss: 0.3669 \n",
      "\u001B[1m7/7\u001B[0m \u001B[32m━━━━━━━━━━━━━━━━━━━━\u001B[0m\u001B[37m\u001B[0m \u001B[1m0s\u001B[0m 5ms/step - accuracy: 0.7863 - loss: 0.4217 \n",
      "\u001B[1m7/7\u001B[0m \u001B[32m━━━━━━━━━━━━━━━━━━━━\u001B[0m\u001B[37m\u001B[0m \u001B[1m0s\u001B[0m 3ms/step - accuracy: 0.8651 - loss: 0.3576 \n",
      "\u001B[1m7/7\u001B[0m \u001B[32m━━━━━━━━━━━━━━━━━━━━\u001B[0m\u001B[37m\u001B[0m \u001B[1m0s\u001B[0m 3ms/step - accuracy: 0.8493 - loss: 0.4310 \n",
      "\u001B[1m7/7\u001B[0m \u001B[32m━━━━━━━━━━━━━━━━━━━━\u001B[0m\u001B[37m\u001B[0m \u001B[1m0s\u001B[0m 5ms/step - accuracy: 0.8624 - loss: 0.3553 \n",
      "\u001B[1m7/7\u001B[0m \u001B[32m━━━━━━━━━━━━━━━━━━━━\u001B[0m\u001B[37m\u001B[0m \u001B[1m0s\u001B[0m 2ms/step - accuracy: 0.8637 - loss: 0.4528 \n",
      "\u001B[1m7/7\u001B[0m \u001B[32m━━━━━━━━━━━━━━━━━━━━\u001B[0m\u001B[37m\u001B[0m \u001B[1m0s\u001B[0m 3ms/step - accuracy: 0.8782 - loss: 0.3606 \n",
      "\u001B[1m7/7\u001B[0m \u001B[32m━━━━━━━━━━━━━━━━━━━━\u001B[0m\u001B[37m\u001B[0m \u001B[1m0s\u001B[0m 3ms/step - accuracy: 0.8504 - loss: 0.3654 \n",
      "\u001B[1m7/7\u001B[0m \u001B[32m━━━━━━━━━━━━━━━━━━━━\u001B[0m\u001B[37m\u001B[0m \u001B[1m0s\u001B[0m 3ms/step - accuracy: 0.8620 - loss: 0.3821 \n",
      "\u001B[1m7/7\u001B[0m \u001B[32m━━━━━━━━━━━━━━━━━━━━\u001B[0m\u001B[37m\u001B[0m \u001B[1m0s\u001B[0m 3ms/step - accuracy: 0.8555 - loss: 0.3807 \n",
      "\u001B[1m7/7\u001B[0m \u001B[32m━━━━━━━━━━━━━━━━━━━━\u001B[0m\u001B[37m\u001B[0m \u001B[1m0s\u001B[0m 3ms/step - accuracy: 0.8543 - loss: 0.3698 \n",
      "\u001B[1m7/7\u001B[0m \u001B[32m━━━━━━━━━━━━━━━━━━━━\u001B[0m\u001B[37m\u001B[0m \u001B[1m0s\u001B[0m 3ms/step - accuracy: 0.8789 - loss: 0.3592 \n",
      "\u001B[1m7/7\u001B[0m \u001B[32m━━━━━━━━━━━━━━━━━━━━\u001B[0m\u001B[37m\u001B[0m \u001B[1m0s\u001B[0m 3ms/step - accuracy: 0.8782 - loss: 0.3582 \n",
      "\u001B[1m7/7\u001B[0m \u001B[32m━━━━━━━━━━━━━━━━━━━━\u001B[0m\u001B[37m\u001B[0m \u001B[1m0s\u001B[0m 6ms/step - accuracy: 0.8447 - loss: 0.3816 \n",
      "\u001B[1m7/7\u001B[0m \u001B[32m━━━━━━━━━━━━━━━━━━━━\u001B[0m\u001B[37m\u001B[0m \u001B[1m0s\u001B[0m 4ms/step - accuracy: 0.8651 - loss: 0.3578 \n",
      "\u001B[1m7/7\u001B[0m \u001B[32m━━━━━━━━━━━━━━━━━━━━\u001B[0m\u001B[37m\u001B[0m \u001B[1m0s\u001B[0m 3ms/step - accuracy: 0.8568 - loss: 0.4239 \n",
      "\u001B[1m7/7\u001B[0m \u001B[32m━━━━━━━━━━━━━━━━━━━━\u001B[0m\u001B[37m\u001B[0m \u001B[1m0s\u001B[0m 3ms/step - accuracy: 0.8430 - loss: 0.3708 \n",
      "\u001B[1m7/7\u001B[0m \u001B[32m━━━━━━━━━━━━━━━━━━━━\u001B[0m\u001B[37m\u001B[0m \u001B[1m0s\u001B[0m 3ms/step - accuracy: 0.8601 - loss: 0.3721 \n",
      "\u001B[1m7/7\u001B[0m \u001B[32m━━━━━━━━━━━━━━━━━━━━\u001B[0m\u001B[37m\u001B[0m \u001B[1m0s\u001B[0m 5ms/step - accuracy: 0.8646 - loss: 0.3655 \n",
      "\u001B[1m7/7\u001B[0m \u001B[32m━━━━━━━━━━━━━━━━━━━━\u001B[0m\u001B[37m\u001B[0m \u001B[1m0s\u001B[0m 2ms/step - accuracy: 0.8756 - loss: 0.3577 \n",
      "\u001B[1m7/7\u001B[0m \u001B[32m━━━━━━━━━━━━━━━━━━━━\u001B[0m\u001B[37m\u001B[0m \u001B[1m0s\u001B[0m 3ms/step - accuracy: 0.8745 - loss: 0.3662 \n",
      "\u001B[1m7/7\u001B[0m \u001B[32m━━━━━━━━━━━━━━━━━━━━\u001B[0m\u001B[37m\u001B[0m \u001B[1m0s\u001B[0m 3ms/step - accuracy: 0.8782 - loss: 0.3608 \n",
      "\u001B[1m7/7\u001B[0m \u001B[32m━━━━━━━━━━━━━━━━━━━━\u001B[0m\u001B[37m\u001B[0m \u001B[1m0s\u001B[0m 3ms/step - accuracy: 0.8614 - loss: 0.3547 \n",
      "\u001B[1m7/7\u001B[0m \u001B[32m━━━━━━━━━━━━━━━━━━━━\u001B[0m\u001B[37m\u001B[0m \u001B[1m0s\u001B[0m 3ms/step - accuracy: 0.8417 - loss: 0.4632 \n",
      "\u001B[1m7/7\u001B[0m \u001B[32m━━━━━━━━━━━━━━━━━━━━\u001B[0m\u001B[37m\u001B[0m \u001B[1m0s\u001B[0m 3ms/step - accuracy: 0.8654 - loss: 0.3763 \n",
      "\u001B[1m7/7\u001B[0m \u001B[32m━━━━━━━━━━━━━━━━━━━━\u001B[0m\u001B[37m\u001B[0m \u001B[1m0s\u001B[0m 4ms/step - accuracy: 0.8229 - loss: 0.3922 \n",
      "\u001B[1m7/7\u001B[0m \u001B[32m━━━━━━━━━━━━━━━━━━━━\u001B[0m\u001B[37m\u001B[0m \u001B[1m0s\u001B[0m 3ms/step - accuracy: 0.8693 - loss: 0.3686 \n",
      "\u001B[1m7/7\u001B[0m \u001B[32m━━━━━━━━━━━━━━━━━━━━\u001B[0m\u001B[37m\u001B[0m \u001B[1m0s\u001B[0m 3ms/step - accuracy: 0.8782 - loss: 0.3647 \n",
      "\u001B[1m7/7\u001B[0m \u001B[32m━━━━━━━━━━━━━━━━━━━━\u001B[0m\u001B[37m\u001B[0m \u001B[1m0s\u001B[0m 3ms/step - accuracy: 0.8620 - loss: 0.3602 \n",
      "\u001B[1m7/7\u001B[0m \u001B[32m━━━━━━━━━━━━━━━━━━━━\u001B[0m\u001B[37m\u001B[0m \u001B[1m0s\u001B[0m 3ms/step - accuracy: 0.8419 - loss: 0.4940 \n",
      "\u001B[1m7/7\u001B[0m \u001B[32m━━━━━━━━━━━━━━━━━━━━\u001B[0m\u001B[37m\u001B[0m \u001B[1m0s\u001B[0m 3ms/step - accuracy: 0.8630 - loss: 0.3776 \n",
      "\u001B[1m7/7\u001B[0m \u001B[32m━━━━━━━━━━━━━━━━━━━━\u001B[0m\u001B[37m\u001B[0m \u001B[1m0s\u001B[0m 2ms/step - accuracy: 0.8397 - loss: 0.3651 \n",
      "\u001B[1m7/7\u001B[0m \u001B[32m━━━━━━━━━━━━━━━━━━━━\u001B[0m\u001B[37m\u001B[0m \u001B[1m0s\u001B[0m 2ms/step - accuracy: 0.8712 - loss: 0.3600 \n",
      "\u001B[1m7/7\u001B[0m \u001B[32m━━━━━━━━━━━━━━━━━━━━\u001B[0m\u001B[37m\u001B[0m \u001B[1m0s\u001B[0m 3ms/step - accuracy: 0.8782 - loss: 0.3599 \n",
      "\u001B[1m7/7\u001B[0m \u001B[32m━━━━━━━━━━━━━━━━━━━━\u001B[0m\u001B[37m\u001B[0m \u001B[1m0s\u001B[0m 3ms/step - accuracy: 0.8710 - loss: 0.3756 \n",
      "\u001B[1m7/7\u001B[0m \u001B[32m━━━━━━━━━━━━━━━━━━━━\u001B[0m\u001B[37m\u001B[0m \u001B[1m0s\u001B[0m 2ms/step - accuracy: 0.8779 - loss: 0.3908 \n",
      "\u001B[1m7/7\u001B[0m \u001B[32m━━━━━━━━━━━━━━━━━━━━\u001B[0m\u001B[37m\u001B[0m \u001B[1m0s\u001B[0m 4ms/step - accuracy: 0.8668 - loss: 0.4279 \n",
      "\u001B[1m7/7\u001B[0m \u001B[32m━━━━━━━━━━━━━━━━━━━━\u001B[0m\u001B[37m\u001B[0m \u001B[1m0s\u001B[0m 3ms/step - accuracy: 0.8352 - loss: 0.3930 \n",
      "\u001B[1m7/7\u001B[0m \u001B[32m━━━━━━━━━━━━━━━━━━━━\u001B[0m\u001B[37m\u001B[0m \u001B[1m0s\u001B[0m 4ms/step - accuracy: 0.8603 - loss: 0.4246 \n",
      "\u001B[1m7/7\u001B[0m \u001B[32m━━━━━━━━━━━━━━━━━━━━\u001B[0m\u001B[37m\u001B[0m \u001B[1m0s\u001B[0m 4ms/step - accuracy: 0.8782 - loss: 0.3575 \n",
      "\u001B[1m7/7\u001B[0m \u001B[32m━━━━━━━━━━━━━━━━━━━━\u001B[0m\u001B[37m\u001B[0m \u001B[1m0s\u001B[0m 3ms/step - accuracy: 0.8860 - loss: 0.3569 \n",
      "\u001B[1m7/7\u001B[0m \u001B[32m━━━━━━━━━━━━━━━━━━━━\u001B[0m\u001B[37m\u001B[0m \u001B[1m0s\u001B[0m 3ms/step - accuracy: 0.8694 - loss: 0.3507 \n",
      "\u001B[1m7/7\u001B[0m \u001B[32m━━━━━━━━━━━━━━━━━━━━\u001B[0m\u001B[37m\u001B[0m \u001B[1m0s\u001B[0m 3ms/step - accuracy: 0.8745 - loss: 0.3594 \n",
      "\u001B[1m7/7\u001B[0m \u001B[32m━━━━━━━━━━━━━━━━━━━━\u001B[0m\u001B[37m\u001B[0m \u001B[1m0s\u001B[0m 2ms/step - accuracy: 0.8624 - loss: 0.3564 \n",
      "\u001B[1m7/7\u001B[0m \u001B[32m━━━━━━━━━━━━━━━━━━━━\u001B[0m\u001B[37m\u001B[0m \u001B[1m0s\u001B[0m 3ms/step - accuracy: 0.8740 - loss: 0.3544 \n",
      "\u001B[1m7/7\u001B[0m \u001B[32m━━━━━━━━━━━━━━━━━━━━\u001B[0m\u001B[37m\u001B[0m \u001B[1m0s\u001B[0m 3ms/step - accuracy: 0.8549 - loss: 0.3676 \n",
      "\u001B[1m7/7\u001B[0m \u001B[32m━━━━━━━━━━━━━━━━━━━━\u001B[0m\u001B[37m\u001B[0m \u001B[1m0s\u001B[0m 3ms/step - accuracy: 0.8542 - loss: 0.3751 \n",
      "\u001B[1m7/7\u001B[0m \u001B[32m━━━━━━━━━━━━━━━━━━━━\u001B[0m\u001B[37m\u001B[0m \u001B[1m0s\u001B[0m 3ms/step - accuracy: 0.7196 - loss: 0.5657 \n",
      "\u001B[1m7/7\u001B[0m \u001B[32m━━━━━━━━━━━━━━━━━━━━\u001B[0m\u001B[37m\u001B[0m \u001B[1m0s\u001B[0m 2ms/step - accuracy: 0.8673 - loss: 0.4458 \n",
      "\u001B[1m7/7\u001B[0m \u001B[32m━━━━━━━━━━━━━━━━━━━━\u001B[0m\u001B[37m\u001B[0m \u001B[1m0s\u001B[0m 2ms/step - accuracy: 0.8688 - loss: 0.3727 \n",
      "\u001B[1m7/7\u001B[0m \u001B[32m━━━━━━━━━━━━━━━━━━━━\u001B[0m\u001B[37m\u001B[0m \u001B[1m0s\u001B[0m 2ms/step - accuracy: 0.8461 - loss: 0.4696 \n",
      "\u001B[1m7/7\u001B[0m \u001B[32m━━━━━━━━━━━━━━━━━━━━\u001B[0m\u001B[37m\u001B[0m \u001B[1m0s\u001B[0m 3ms/step - accuracy: 0.8618 - loss: 0.3606 \n",
      "\u001B[1m7/7\u001B[0m \u001B[32m━━━━━━━━━━━━━━━━━━━━\u001B[0m\u001B[37m\u001B[0m \u001B[1m0s\u001B[0m 4ms/step - accuracy: 0.8516 - loss: 0.3688 \n",
      "\u001B[1m7/7\u001B[0m \u001B[32m━━━━━━━━━━━━━━━━━━━━\u001B[0m\u001B[37m\u001B[0m \u001B[1m0s\u001B[0m 3ms/step - accuracy: 0.8601 - loss: 0.3662 \n",
      "\u001B[1m7/7\u001B[0m \u001B[32m━━━━━━━━━━━━━━━━━━━━\u001B[0m\u001B[37m\u001B[0m \u001B[1m0s\u001B[0m 2ms/step - accuracy: 0.8782 - loss: 0.3541 \n",
      "\u001B[1m7/7\u001B[0m \u001B[32m━━━━━━━━━━━━━━━━━━━━\u001B[0m\u001B[37m\u001B[0m \u001B[1m0s\u001B[0m 3ms/step - accuracy: 0.8200 - loss: 0.4087 \n",
      "\u001B[1m7/7\u001B[0m \u001B[32m━━━━━━━━━━━━━━━━━━━━\u001B[0m\u001B[37m\u001B[0m \u001B[1m0s\u001B[0m 2ms/step - accuracy: 0.8651 - loss: 0.3582 \n",
      "\u001B[1m7/7\u001B[0m \u001B[32m━━━━━━━━━━━━━━━━━━━━\u001B[0m\u001B[37m\u001B[0m \u001B[1m0s\u001B[0m 3ms/step - accuracy: 0.8782 - loss: 0.3586 \n",
      "\u001B[1m7/7\u001B[0m \u001B[32m━━━━━━━━━━━━━━━━━━━━\u001B[0m\u001B[37m\u001B[0m \u001B[1m0s\u001B[0m 4ms/step - accuracy: 0.8544 - loss: 0.3622 \n",
      "\u001B[1m7/7\u001B[0m \u001B[32m━━━━━━━━━━━━━━━━━━━━\u001B[0m\u001B[37m\u001B[0m \u001B[1m0s\u001B[0m 3ms/step - accuracy: 0.8669 - loss: 0.3780 \n",
      "\u001B[1m7/7\u001B[0m \u001B[32m━━━━━━━━━━━━━━━━━━━━\u001B[0m\u001B[37m\u001B[0m \u001B[1m0s\u001B[0m 3ms/step - accuracy: 0.8745 - loss: 0.3678 \n",
      "\u001B[1m7/7\u001B[0m \u001B[32m━━━━━━━━━━━━━━━━━━━━\u001B[0m\u001B[37m\u001B[0m \u001B[1m0s\u001B[0m 1ms/step - accuracy: 0.8413 - loss: 0.3796 \n",
      "\u001B[1m7/7\u001B[0m \u001B[32m━━━━━━━━━━━━━━━━━━━━\u001B[0m\u001B[37m\u001B[0m \u001B[1m0s\u001B[0m 3ms/step - accuracy: 0.8611 - loss: 0.5607 \n",
      "[0.8050000071525574, 0.8550000190734863, 0.8500000238418579, 0.8500000238418579, 0.8700000047683716, 0.8700000047683716, 0.8550000190734863, 0.7850000262260437, 0.875, 0.8650000095367432, 0.8849999904632568, 0.8650000095367432, 0.8500000238418579, 0.8299999833106995, 0.875, 0.8550000190734863, 0.8650000095367432, 0.8849999904632568, 0.875, 0.8700000047683716, 0.8600000143051147, 0.8299999833106995, 0.8550000190734863, 0.8299999833106995, 0.8650000095367432, 0.8799999952316284, 0.8700000047683716, 0.8700000047683716, 0.8799999952316284, 0.6800000071525574, 0.8399999737739563, 0.8700000047683716, 0.875, 0.8550000190734863, 0.8500000238418579]\n"
     ]
    }
   ],
   "source": [
    "m2_res = []\n",
    "m3_res = []\n",
    "m4_res = []\n",
    "m4_inner_model.set_weights(m1_inner_model.get_weights())\n",
    "\n",
    "for i in range(35):\n",
    "    m1_inner_model = Sequential(\n",
    "        [\n",
    "            Input(shape=moons_dim),\n",
    "            Dense(5, activation='relu'),\n",
    "            Dense(5, activation='relu')\n",
    "        ]\n",
    "    )\n",
    "    m1 = Sequential(\n",
    "        [\n",
    "            Input(shape=moons_dim),\n",
    "            m1_inner_model,\n",
    "            Dense(2, activation='softmax')\n",
    "        ]\n",
    "    )\n",
    "    opt_adam = keras.optimizers.Adam(learning_rate=0.001)\n",
    "    m1.compile(loss='binary_crossentropy', optimizer=opt_adam, metrics=['accuracy'])\n",
    "    m1.fit(X_SR_tr, y_SR_tr_OHE, epochs=40, validation_split = .1, verbose = 0)\n",
    "    # m2\n",
    "    m2 = Sequential()\n",
    "    m2.add(Input(shape=moons_dim))\n",
    "    m2.add(Dense(5, activation='relu'))\n",
    "    m2.add(Dense(5, activation='relu'))\n",
    "    m2.add(Dense(2, activation='softmax'))\n",
    "    opt_adam = keras.optimizers.Adam(learning_rate=0.001)\n",
    "    m2.compile(loss='binary_crossentropy', optimizer=opt_adam, metrics=['accuracy'])\n",
    "    m2.fit(X_CR_tr, y_CR_tr_OHE, epochs=40, validation_split = .1, verbose = 0)\n",
    "    m2_res_it = m2.evaluate(X_CR_ts, y_CR_ts_OHE)\n",
    "    m2_res.append(m2_res_it[1])\n",
    "    # m3\n",
    "    m1_inner_model.trainable = False\n",
    "    m3 = Sequential(\n",
    "        [\n",
    "            m1_inner_model,\n",
    "            Dense(2, activation='softmax')\n",
    "        ]\n",
    "    )\n",
    "    opt_adam = keras.optimizers.Adam(learning_rate=0.05)\n",
    "    m3.compile(loss='binary_crossentropy', optimizer=opt_adam, metrics=['accuracy'])\n",
    "    m3.fit(X_CR_tr, y_CR_tr_OHE, epochs=40, validation_split = .1, verbose = 0)\n",
    "    m3_res_it = m3.evaluate(X_CR_ts, y_CR_ts_OHE)\n",
    "    m3_res.append(m3_res_it[1])\n",
    "    \n",
    "    # m4\n",
    "    m4_inner_model = Sequential(\n",
    "        [\n",
    "            Input(shape=moons_dim),\n",
    "            Dense(5, activation='relu'),\n",
    "            Dense(5, activation='relu')\n",
    "        ]\n",
    "    )\n",
    "    m4_inner_model.set_weights(m1_inner_model.get_weights())\n",
    "    m4 = Sequential(\n",
    "        [\n",
    "            m4_inner_model,\n",
    "            Dense(2, activation='softmax')\n",
    "        ]\n",
    "    )\n",
    "    \n",
    "    opt_adam = keras.optimizers.Adam(learning_rate=0.001)\n",
    "    m4.compile(loss='binary_crossentropy', optimizer=opt_adam, metrics=['accuracy'])\n",
    "    m4.fit(X_CR_tr, y_CR_tr_OHE, epochs=40, validation_split = .1, verbose = 0)\n",
    "    m4_res_it = m4.evaluate(X_CR_ts, y_CR_ts_OHE)\n",
    "    m4_res.append(m4_res_it[1])\n",
    "    \n",
    "    keras.backend.clear_session()\n",
    "   \n",
    "print(m4_res) "
   ],
   "metadata": {
    "collapsed": false,
    "ExecuteTime": {
     "end_time": "2024-05-07T20:25:52.976229600Z",
     "start_time": "2024-05-07T20:02:20.555422500Z"
    }
   },
   "id": "254478d0fc5974f9"
  },
  {
   "cell_type": "code",
   "execution_count": 136,
   "outputs": [
    {
     "data": {
      "text/plain": "<Figure size 640x480 with 1 Axes>",
      "image/png": "[encoded data removed]"
     },
     "metadata": {},
     "output_type": "display_data"
    }
   ],
   "source": [
    "fig = plt.figure()\n",
    "resultados = {\"m2\": m2_res, \"m3\": m3_res, \"m4\": m4_res} \n",
    "# Creating axes instance\n",
    "ax = fig.add_axes([0, 0, 1, 1])\n",
    " \n",
    "# Creating plot\n",
    "bp = ax.boxplot([m2_res, m3_res, m4_res])\n",
    "ax.set_xticklabels(['m2', 'm3', 'm4'])\n",
    "plt.title(\"Transfer Learning y Fine Tuning\")\n",
    "#plt.ylim(-0.1, 1) \n",
    "# show plot\n",
    "plt.show()"
   ],
   "metadata": {
    "collapsed": false,
    "ExecuteTime": {
     "end_time": "2024-05-07T20:25:53.156542200Z",
     "start_time": "2024-05-07T20:25:52.989745800Z"
    }
   },
   "id": "583b0167d04d1b45"
  },
  {
   "cell_type": "markdown",
   "source": [],
   "metadata": {
    "collapsed": false
   },
   "id": "a9fa3fe3690d95af"
  },
  {
   "cell_type": "code",
   "execution_count": 137,
   "outputs": [
    {
     "name": "stdout",
     "output_type": "stream",
     "text": [
      "Modelo      Mínimo  μ + σ        Mediana    Máximo\n",
      "--------  --------  ---------  ---------  --------\n",
      "m2            0.83  0.86±0.01       0.86      0.87\n",
      "m3            0.81  0.86±0.02       0.86      0.88\n",
      "m4            0.68  0.85±0.04       0.87      0.88\n"
     ]
    }
   ],
   "source": [
    "min_m2 = min(m2_res)\n",
    "max_m2 = max(m2_res)\n",
    "mean_m2 = np.mean(m2_res)\n",
    "median_m2 = np.median(m2_res)\n",
    "std_dev_m2 = np.std(m2_res)\n",
    "\n",
    "min_m3 = min(m3_res)\n",
    "max_m3 = max(m3_res)\n",
    "mean_m3 = np.mean(m3_res)\n",
    "median_m3 = np.median(m3_res)\n",
    "std_dev_m3 = np.std(m3_res)\n",
    "\n",
    "min_m4 = min(m4_res)\n",
    "max_m4 = max(m4_res)\n",
    "mean_m4 = np.mean(m4_res)\n",
    "median_m4 = np.median(m4_res)\n",
    "std_dev_m4 = np.std(m4_res)\n",
    "\n",
    "head = [\"Modelo\", \"Mínimo\", \"μ + σ\", \"Mediana\", \"Máximo\"]\n",
    "data = [['m2', \"{:.2f}\".format(min_m2), \"{:.2f}\".format(mean_m2) + \"±\" + \"{:.2f}\".format(std_dev_m2), \"{:.2f}\".format(median_m2), \"{:.2f}\".format(max_m2)],\n",
    "['m3', \"{:.2f}\".format(min_m3), \"{:.2f}\".format(mean_m3) + \"±\" + \"{:.2f}\".format(std_dev_m3), \"{:.2f}\".format(median_m3), \"{:.2f}\".format(max_m3)],\n",
    "['m4', \"{:.2f}\".format(min_m4), \"{:.2f}\".format(mean_m4) + \"±\" + \"{:.2f}\".format(std_dev_m4), \"{:.2f}\".format(median_m4), \"{:.2f}\".format(max_m4)]]\n",
    "print (tabulate(data, headers=[\"Modelo\", \"Mínimo\", \"μ + σ\", \"Mediana\", \"Máximo\"]))"
   ],
   "metadata": {
    "collapsed": false,
    "ExecuteTime": {
     "end_time": "2024-05-07T20:26:07.555442700Z",
     "start_time": "2024-05-07T20:26:07.527874900Z"
    }
   },
   "id": "39f39955f8232ff6"
  }
 ],
 "metadata": {
  "kernelspec": {
   "display_name": "Python 3",
   "language": "python",
   "name": "python3"
  },
  "language_info": {
   "codemirror_mode": {
    "name": "ipython",
    "version": 2
   },
   "file_extension": ".py",
   "mimetype": "text/x-python",
   "name": "python",
   "nbconvert_exporter": "python",
   "pygments_lexer": "ipython2",
   "version": "2.7.6"
  }
 },
 "nbformat": 4,
 "nbformat_minor": 5
}
